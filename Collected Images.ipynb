{
 "cells": [
  {
   "cell_type": "code",
   "execution_count": 4,
   "id": "4e040e826479e970",
   "metadata": {
    "ExecuteTime": {
     "end_time": "2023-10-16T03:07:16.319927700Z",
     "start_time": "2023-10-16T03:07:16.309470900Z"
    }
   },
   "outputs": [],
   "source": [
    "import cv2\n",
    "import os\n",
    "import uuid\n",
    "import time"
   ]
  },
  {
   "cell_type": "code",
   "execution_count": 5,
   "id": "f6cf74cd",
   "metadata": {
    "ExecuteTime": {
     "end_time": "2023-10-16T03:07:17.962790100Z",
     "start_time": "2023-10-16T03:07:17.956517400Z"
    }
   },
   "outputs": [],
   "source": [
    "IMAGE_PATH='Tensorflow\\workspace\\images\\collectedimages'"
   ]
  },
  {
   "cell_type": "code",
   "execution_count": 6,
   "id": "22d76870",
   "metadata": {
    "ExecuteTime": {
     "end_time": "2023-10-16T03:07:18.482640700Z",
     "start_time": "2023-10-16T03:07:18.470846900Z"
    }
   },
   "outputs": [],
   "source": [
    "labels=['hello','thanks','yes','no','iloveyou','please','eat','help','deaf']\n",
    "number_of_images=15"
   ]
  },
  {
   "cell_type": "code",
   "execution_count": 7,
   "id": "547eb79abcb102b7",
   "metadata": {
    "ExecuteTime": {
     "end_time": "2023-10-16T03:02:02.679207600Z",
     "start_time": "2023-10-16T03:01:34.607768300Z"
    }
   },
   "outputs": [
    {
     "name": "stderr",
     "output_type": "stream",
     "text": [
      "A subdirectory or file Tensorflow\\workspace\\images\\collectedimages\\hello already exists.\n"
     ]
    },
    {
     "name": "stdout",
     "output_type": "stream",
     "text": [
      "Collecting images for hello\n",
      "Collecting images for thanks\n",
      "Collecting images for yes\n",
      "Collecting images for no\n",
      "Collecting images for iloveyou\n",
      "Collecting images for please\n",
      "Collecting images for eat\n",
      "Collecting images for help\n",
      "Collecting images for deaf\n"
     ]
    }
   ],
   "source": [
    "for label in labels:\n",
    "    !mkdir {'Tensorflow\\workspace\\images\\collectedimages\\\\'+label}\n",
    "    cap=cv2.VideoCapture(0)\n",
    "    print('Collecting images for {}'.format(label))\n",
    "    time.sleep(5)\n",
    "    for imgnum in range(number_of_images):\n",
    "        ret,frame=cap.read()\n",
    "        imagename=os.path.join(IMAGE_PATH,label,label+'.'+'{}.jpg'.format(str(uuid.uuid1())))\n",
    "        cv2.imwrite(imagename,frame)\n",
    "        cv2.imshow('frame',frame)\n",
    "        time.sleep(2)\n",
    "        \n",
    "        if cv2.waitKey(1) & 0xFF==ord('q'):\n",
    "            break\n",
    "    cap.release()"
   ]
  },
  {
   "cell_type": "code",
   "execution_count": 8,
   "id": "7da45db01a7569f9",
   "metadata": {},
   "outputs": [],
   "source": [
    "cap.release()"
   ]
  },
  {
   "cell_type": "code",
   "execution_count": 9,
   "id": "b1b43689",
   "metadata": {},
   "outputs": [],
   "source": [
    "cv2.destroyAllWindows()"
   ]
  },
  {
   "cell_type": "code",
   "execution_count": 1,
   "id": "443deb5e",
   "metadata": {},
   "outputs": [
    {
     "name": "stdout",
     "output_type": "stream",
     "text": [
      "Defaulting to user installation because normal site-packages is not writeable\n",
      "Collecting jupyterthemes\n",
      "  Downloading jupyterthemes-0.20.0-py2.py3-none-any.whl (7.0 MB)\n",
      "     ---------------------------------------- 0.0/7.0 MB ? eta -:--:--\n",
      "     ---------------------------------------- 0.0/7.0 MB ? eta -:--:--\n",
      "     ---------------------------------------- 0.0/7.0 MB 262.6 kB/s eta 0:00:27\n",
      "     ---------------------------------------- 0.0/7.0 MB 281.8 kB/s eta 0:00:25\n",
      "      --------------------------------------- 0.1/7.0 MB 479.1 kB/s eta 0:00:15\n",
      "     - -------------------------------------- 0.2/7.0 MB 892.5 kB/s eta 0:00:08\n",
      "     - -------------------------------------- 0.3/7.0 MB 1.1 MB/s eta 0:00:07\n",
      "     -- ------------------------------------- 0.4/7.0 MB 1.2 MB/s eta 0:00:06\n",
      "     -- ------------------------------------- 0.4/7.0 MB 1.1 MB/s eta 0:00:07\n",
      "     -- ------------------------------------- 0.4/7.0 MB 983.6 kB/s eta 0:00:07\n",
      "     -- ------------------------------------- 0.5/7.0 MB 1.0 MB/s eta 0:00:07\n",
      "     --- ------------------------------------ 0.5/7.0 MB 1.0 MB/s eta 0:00:07\n",
      "     --- ------------------------------------ 0.6/7.0 MB 1.0 MB/s eta 0:00:07\n",
      "     --- ------------------------------------ 0.6/7.0 MB 1.0 MB/s eta 0:00:07\n",
      "     --- ------------------------------------ 0.6/7.0 MB 983.0 kB/s eta 0:00:07\n",
      "     ---- ----------------------------------- 0.7/7.0 MB 1.0 MB/s eta 0:00:07\n",
      "     ---- ----------------------------------- 0.7/7.0 MB 1.0 MB/s eta 0:00:07\n",
      "     ---- ----------------------------------- 0.8/7.0 MB 1.1 MB/s eta 0:00:06\n",
      "     ----- ---------------------------------- 0.9/7.0 MB 1.1 MB/s eta 0:00:06\n",
      "     ----- ---------------------------------- 0.9/7.0 MB 1.1 MB/s eta 0:00:06\n",
      "     ----- ---------------------------------- 0.9/7.0 MB 1.1 MB/s eta 0:00:06\n",
      "     ------ --------------------------------- 1.1/7.0 MB 1.1 MB/s eta 0:00:06\n",
      "     ------ --------------------------------- 1.1/7.0 MB 1.1 MB/s eta 0:00:06\n",
      "     ------ --------------------------------- 1.1/7.0 MB 1.1 MB/s eta 0:00:06\n",
      "     ------- -------------------------------- 1.3/7.0 MB 1.1 MB/s eta 0:00:06\n",
      "     ------- -------------------------------- 1.4/7.0 MB 1.2 MB/s eta 0:00:05\n",
      "     ------- -------------------------------- 1.4/7.0 MB 1.2 MB/s eta 0:00:05\n",
      "     -------- ------------------------------- 1.5/7.0 MB 1.2 MB/s eta 0:00:05\n",
      "     --------- ------------------------------ 1.6/7.0 MB 1.3 MB/s eta 0:00:05\n",
      "     --------- ------------------------------ 1.7/7.0 MB 1.3 MB/s eta 0:00:05\n",
      "     ---------- ----------------------------- 1.9/7.0 MB 1.4 MB/s eta 0:00:04\n",
      "     ----------- ---------------------------- 2.0/7.0 MB 1.4 MB/s eta 0:00:04\n",
      "     ------------ --------------------------- 2.1/7.0 MB 1.5 MB/s eta 0:00:04\n",
      "     ------------ --------------------------- 2.3/7.0 MB 1.5 MB/s eta 0:00:04\n",
      "     -------------- ------------------------- 2.5/7.0 MB 1.6 MB/s eta 0:00:03\n",
      "     -------------- ------------------------- 2.6/7.0 MB 1.6 MB/s eta 0:00:03\n",
      "     -------------- ------------------------- 2.6/7.0 MB 1.6 MB/s eta 0:00:03\n",
      "     -------------- ------------------------- 2.6/7.0 MB 1.6 MB/s eta 0:00:03\n",
      "     -------------- ------------------------- 2.6/7.0 MB 1.5 MB/s eta 0:00:03\n",
      "     --------------- ------------------------ 2.8/7.0 MB 1.5 MB/s eta 0:00:03\n",
      "     ---------------- ----------------------- 2.8/7.0 MB 1.5 MB/s eta 0:00:03\n",
      "     ---------------- ----------------------- 2.9/7.0 MB 1.5 MB/s eta 0:00:03\n",
      "     ---------------- ----------------------- 2.9/7.0 MB 1.5 MB/s eta 0:00:03\n",
      "     ----------------- ---------------------- 3.1/7.0 MB 1.5 MB/s eta 0:00:03\n",
      "     ----------------- ---------------------- 3.1/7.0 MB 1.5 MB/s eta 0:00:03\n",
      "     ----------------- ---------------------- 3.1/7.0 MB 1.5 MB/s eta 0:00:03\n",
      "     ------------------ --------------------- 3.2/7.0 MB 1.5 MB/s eta 0:00:03\n",
      "     ------------------- -------------------- 3.4/7.0 MB 1.5 MB/s eta 0:00:03\n",
      "     ------------------- -------------------- 3.4/7.0 MB 1.6 MB/s eta 0:00:03\n",
      "     ------------------- -------------------- 3.5/7.0 MB 1.5 MB/s eta 0:00:03\n",
      "     --------------------- ------------------ 3.7/7.0 MB 1.6 MB/s eta 0:00:03\n",
      "     --------------------- ------------------ 3.7/7.0 MB 1.6 MB/s eta 0:00:03\n",
      "     ---------------------- ----------------- 3.9/7.0 MB 1.6 MB/s eta 0:00:02\n",
      "     ---------------------- ----------------- 4.0/7.0 MB 1.6 MB/s eta 0:00:02\n",
      "     ---------------------- ----------------- 4.0/7.0 MB 1.6 MB/s eta 0:00:02\n",
      "     ------------------------ --------------- 4.2/7.0 MB 1.7 MB/s eta 0:00:02\n",
      "     ------------------------ --------------- 4.2/7.0 MB 1.6 MB/s eta 0:00:02\n",
      "     ------------------------ --------------- 4.3/7.0 MB 1.6 MB/s eta 0:00:02\n",
      "     ------------------------- -------------- 4.5/7.0 MB 1.7 MB/s eta 0:00:02\n",
      "     -------------------------- ------------- 4.6/7.0 MB 1.7 MB/s eta 0:00:02\n",
      "     -------------------------- ------------- 4.7/7.0 MB 1.7 MB/s eta 0:00:02\n",
      "     -------------------------- ------------- 4.7/7.0 MB 1.7 MB/s eta 0:00:02\n",
      "     --------------------------- ------------ 4.8/7.0 MB 1.7 MB/s eta 0:00:02\n",
      "     --------------------------- ------------ 4.8/7.0 MB 1.6 MB/s eta 0:00:02\n",
      "     --------------------------- ------------ 4.8/7.0 MB 1.6 MB/s eta 0:00:02\n",
      "     ---------------------------- ----------- 5.0/7.0 MB 1.7 MB/s eta 0:00:02\n",
      "     ----------------------------- ---------- 5.1/7.0 MB 1.7 MB/s eta 0:00:02\n",
      "     ----------------------------- ---------- 5.1/7.0 MB 1.7 MB/s eta 0:00:02\n",
      "     ----------------------------- ---------- 5.2/7.0 MB 1.7 MB/s eta 0:00:02\n",
      "     ----------------------------- ---------- 5.2/7.0 MB 1.7 MB/s eta 0:00:02\n",
      "     ----------------------------- ---------- 5.2/7.0 MB 1.7 MB/s eta 0:00:02\n",
      "     ----------------------------- ---------- 5.2/7.0 MB 1.7 MB/s eta 0:00:02\n",
      "     ------------------------------- -------- 5.6/7.0 MB 1.7 MB/s eta 0:00:01\n",
      "     ------------------------------- -------- 5.6/7.0 MB 1.7 MB/s eta 0:00:01\n",
      "     -------------------------------- ------- 5.7/7.0 MB 1.7 MB/s eta 0:00:01\n",
      "     --------------------------------- ------ 5.8/7.0 MB 1.7 MB/s eta 0:00:01\n",
      "     --------------------------------- ------ 5.9/7.0 MB 1.6 MB/s eta 0:00:01\n",
      "     --------------------------------- ------ 5.9/7.0 MB 1.7 MB/s eta 0:00:01\n",
      "     ---------------------------------- ----- 6.0/7.0 MB 1.7 MB/s eta 0:00:01\n",
      "     ---------------------------------- ----- 6.1/7.0 MB 1.7 MB/s eta 0:00:01\n",
      "     ------------------------------------ --- 6.4/7.0 MB 1.7 MB/s eta 0:00:01\n",
      "     ------------------------------------ --- 6.4/7.0 MB 1.7 MB/s eta 0:00:01\n",
      "     ------------------------------------- -- 6.6/7.0 MB 1.7 MB/s eta 0:00:01\n",
      "     -------------------------------------- - 6.7/7.0 MB 1.8 MB/s eta 0:00:01\n",
      "     ---------------------------------------  7.0/7.0 MB 1.8 MB/s eta 0:00:01\n",
      "     ---------------------------------------  7.0/7.0 MB 1.8 MB/s eta 0:00:01\n",
      "     ---------------------------------------- 7.0/7.0 MB 1.8 MB/s eta 0:00:00\n",
      "Requirement already satisfied: jupyter-core in c:\\programdata\\anaconda3\\lib\\site-packages (from jupyterthemes) (5.3.0)\n",
      "Requirement already satisfied: notebook>=5.6.0 in c:\\programdata\\anaconda3\\lib\\site-packages (from jupyterthemes) (6.5.4)\n",
      "Requirement already satisfied: ipython>=5.4.1 in c:\\programdata\\anaconda3\\lib\\site-packages (from jupyterthemes) (8.15.0)\n",
      "Requirement already satisfied: matplotlib>=1.4.3 in c:\\programdata\\anaconda3\\lib\\site-packages (from jupyterthemes) (3.7.2)\n",
      "Collecting lesscpy>=0.11.2 (from jupyterthemes)\n",
      "  Downloading lesscpy-0.15.1-py2.py3-none-any.whl (46 kB)\n",
      "     ---------------------------------------- 0.0/46.7 kB ? eta -:--:--\n",
      "     -------------------------- ------------- 30.7/46.7 kB 1.4 MB/s eta 0:00:01\n",
      "     ---------------------------------------- 46.7/46.7 kB 1.2 MB/s eta 0:00:00\n",
      "Requirement already satisfied: backcall in c:\\programdata\\anaconda3\\lib\\site-packages (from ipython>=5.4.1->jupyterthemes) (0.2.0)\n",
      "Requirement already satisfied: decorator in c:\\programdata\\anaconda3\\lib\\site-packages (from ipython>=5.4.1->jupyterthemes) (5.1.1)\n",
      "Requirement already satisfied: jedi>=0.16 in c:\\programdata\\anaconda3\\lib\\site-packages (from ipython>=5.4.1->jupyterthemes) (0.18.1)\n",
      "Requirement already satisfied: matplotlib-inline in c:\\programdata\\anaconda3\\lib\\site-packages (from ipython>=5.4.1->jupyterthemes) (0.1.6)\n",
      "Requirement already satisfied: pickleshare in c:\\programdata\\anaconda3\\lib\\site-packages (from ipython>=5.4.1->jupyterthemes) (0.7.5)\n",
      "Requirement already satisfied: prompt-toolkit!=3.0.37,<3.1.0,>=3.0.30 in c:\\programdata\\anaconda3\\lib\\site-packages (from ipython>=5.4.1->jupyterthemes) (3.0.36)\n",
      "Requirement already satisfied: pygments>=2.4.0 in c:\\programdata\\anaconda3\\lib\\site-packages (from ipython>=5.4.1->jupyterthemes) (2.15.1)\n",
      "Requirement already satisfied: stack-data in c:\\programdata\\anaconda3\\lib\\site-packages (from ipython>=5.4.1->jupyterthemes) (0.2.0)\n",
      "Requirement already satisfied: traitlets>=5 in c:\\programdata\\anaconda3\\lib\\site-packages (from ipython>=5.4.1->jupyterthemes) (5.7.1)\n",
      "Requirement already satisfied: colorama in c:\\programdata\\anaconda3\\lib\\site-packages (from ipython>=5.4.1->jupyterthemes) (0.4.6)\n",
      "Requirement already satisfied: ply in c:\\programdata\\anaconda3\\lib\\site-packages (from lesscpy>=0.11.2->jupyterthemes) (3.11)\n",
      "Requirement already satisfied: contourpy>=1.0.1 in c:\\programdata\\anaconda3\\lib\\site-packages (from matplotlib>=1.4.3->jupyterthemes) (1.0.5)\n",
      "Requirement already satisfied: cycler>=0.10 in c:\\programdata\\anaconda3\\lib\\site-packages (from matplotlib>=1.4.3->jupyterthemes) (0.11.0)\n",
      "Requirement already satisfied: fonttools>=4.22.0 in c:\\programdata\\anaconda3\\lib\\site-packages (from matplotlib>=1.4.3->jupyterthemes) (4.25.0)\n",
      "Requirement already satisfied: kiwisolver>=1.0.1 in c:\\programdata\\anaconda3\\lib\\site-packages (from matplotlib>=1.4.3->jupyterthemes) (1.4.4)\n",
      "Requirement already satisfied: numpy>=1.20 in c:\\programdata\\anaconda3\\lib\\site-packages (from matplotlib>=1.4.3->jupyterthemes) (1.24.3)\n",
      "Requirement already satisfied: packaging>=20.0 in c:\\programdata\\anaconda3\\lib\\site-packages (from matplotlib>=1.4.3->jupyterthemes) (23.1)\n",
      "Requirement already satisfied: pillow>=6.2.0 in c:\\programdata\\anaconda3\\lib\\site-packages (from matplotlib>=1.4.3->jupyterthemes) (9.4.0)\n",
      "Requirement already satisfied: pyparsing<3.1,>=2.3.1 in c:\\programdata\\anaconda3\\lib\\site-packages (from matplotlib>=1.4.3->jupyterthemes) (3.0.9)\n",
      "Requirement already satisfied: python-dateutil>=2.7 in c:\\programdata\\anaconda3\\lib\\site-packages (from matplotlib>=1.4.3->jupyterthemes) (2.8.2)\n",
      "Requirement already satisfied: jinja2 in c:\\programdata\\anaconda3\\lib\\site-packages (from notebook>=5.6.0->jupyterthemes) (3.1.2)\n",
      "Requirement already satisfied: tornado>=6.1 in c:\\programdata\\anaconda3\\lib\\site-packages (from notebook>=5.6.0->jupyterthemes) (6.3.2)\n",
      "Requirement already satisfied: pyzmq>=17 in c:\\programdata\\anaconda3\\lib\\site-packages (from notebook>=5.6.0->jupyterthemes) (23.2.0)\n",
      "Requirement already satisfied: argon2-cffi in c:\\programdata\\anaconda3\\lib\\site-packages (from notebook>=5.6.0->jupyterthemes) (21.3.0)\n",
      "Requirement already satisfied: jupyter-client>=5.3.4 in c:\\programdata\\anaconda3\\lib\\site-packages (from notebook>=5.6.0->jupyterthemes) (7.4.9)\n",
      "Requirement already satisfied: ipython-genutils in c:\\programdata\\anaconda3\\lib\\site-packages (from notebook>=5.6.0->jupyterthemes) (0.2.0)\n",
      "Requirement already satisfied: nbformat in c:\\programdata\\anaconda3\\lib\\site-packages (from notebook>=5.6.0->jupyterthemes) (5.9.2)\n",
      "Requirement already satisfied: nbconvert>=5 in c:\\programdata\\anaconda3\\lib\\site-packages (from notebook>=5.6.0->jupyterthemes) (6.5.4)\n",
      "Requirement already satisfied: nest-asyncio>=1.5 in c:\\programdata\\anaconda3\\lib\\site-packages (from notebook>=5.6.0->jupyterthemes) (1.5.6)\n",
      "Requirement already satisfied: ipykernel in c:\\programdata\\anaconda3\\lib\\site-packages (from notebook>=5.6.0->jupyterthemes) (6.25.0)\n",
      "Requirement already satisfied: Send2Trash>=1.8.0 in c:\\programdata\\anaconda3\\lib\\site-packages (from notebook>=5.6.0->jupyterthemes) (1.8.0)\n",
      "Requirement already satisfied: terminado>=0.8.3 in c:\\programdata\\anaconda3\\lib\\site-packages (from notebook>=5.6.0->jupyterthemes) (0.17.1)\n",
      "Requirement already satisfied: prometheus-client in c:\\programdata\\anaconda3\\lib\\site-packages (from notebook>=5.6.0->jupyterthemes) (0.14.1)\n",
      "Requirement already satisfied: nbclassic>=0.4.7 in c:\\programdata\\anaconda3\\lib\\site-packages (from notebook>=5.6.0->jupyterthemes) (0.5.5)\n",
      "Requirement already satisfied: platformdirs>=2.5 in c:\\programdata\\anaconda3\\lib\\site-packages (from jupyter-core->jupyterthemes) (3.10.0)\n",
      "Requirement already satisfied: pywin32>=300 in c:\\programdata\\anaconda3\\lib\\site-packages (from jupyter-core->jupyterthemes) (305.1)\n",
      "Requirement already satisfied: parso<0.9.0,>=0.8.0 in c:\\programdata\\anaconda3\\lib\\site-packages (from jedi>=0.16->ipython>=5.4.1->jupyterthemes) (0.8.3)\n",
      "Requirement already satisfied: entrypoints in c:\\programdata\\anaconda3\\lib\\site-packages (from jupyter-client>=5.3.4->notebook>=5.6.0->jupyterthemes) (0.4)\n",
      "Requirement already satisfied: jupyter-server>=1.8 in c:\\programdata\\anaconda3\\lib\\site-packages (from nbclassic>=0.4.7->notebook>=5.6.0->jupyterthemes) (1.23.4)\n",
      "Requirement already satisfied: notebook-shim>=0.1.0 in c:\\programdata\\anaconda3\\lib\\site-packages (from nbclassic>=0.4.7->notebook>=5.6.0->jupyterthemes) (0.2.2)\n",
      "Requirement already satisfied: lxml in c:\\programdata\\anaconda3\\lib\\site-packages (from nbconvert>=5->notebook>=5.6.0->jupyterthemes) (4.9.3)\n",
      "Requirement already satisfied: beautifulsoup4 in c:\\programdata\\anaconda3\\lib\\site-packages (from nbconvert>=5->notebook>=5.6.0->jupyterthemes) (4.12.2)\n",
      "Requirement already satisfied: bleach in c:\\programdata\\anaconda3\\lib\\site-packages (from nbconvert>=5->notebook>=5.6.0->jupyterthemes) (4.1.0)\n",
      "Requirement already satisfied: defusedxml in c:\\programdata\\anaconda3\\lib\\site-packages (from nbconvert>=5->notebook>=5.6.0->jupyterthemes) (0.7.1)\n",
      "Requirement already satisfied: jupyterlab-pygments in c:\\programdata\\anaconda3\\lib\\site-packages (from nbconvert>=5->notebook>=5.6.0->jupyterthemes) (0.1.2)\n",
      "Requirement already satisfied: MarkupSafe>=2.0 in c:\\programdata\\anaconda3\\lib\\site-packages (from nbconvert>=5->notebook>=5.6.0->jupyterthemes) (2.1.1)\n",
      "Requirement already satisfied: mistune<2,>=0.8.1 in c:\\programdata\\anaconda3\\lib\\site-packages (from nbconvert>=5->notebook>=5.6.0->jupyterthemes) (0.8.4)\n",
      "Requirement already satisfied: nbclient>=0.5.0 in c:\\programdata\\anaconda3\\lib\\site-packages (from nbconvert>=5->notebook>=5.6.0->jupyterthemes) (0.5.13)\n",
      "Requirement already satisfied: pandocfilters>=1.4.1 in c:\\programdata\\anaconda3\\lib\\site-packages (from nbconvert>=5->notebook>=5.6.0->jupyterthemes) (1.5.0)\n",
      "Requirement already satisfied: tinycss2 in c:\\programdata\\anaconda3\\lib\\site-packages (from nbconvert>=5->notebook>=5.6.0->jupyterthemes) (1.2.1)\n",
      "Requirement already satisfied: fastjsonschema in c:\\programdata\\anaconda3\\lib\\site-packages (from nbformat->notebook>=5.6.0->jupyterthemes) (2.16.2)\n",
      "Requirement already satisfied: jsonschema>=2.6 in c:\\programdata\\anaconda3\\lib\\site-packages (from nbformat->notebook>=5.6.0->jupyterthemes) (4.17.3)\n",
      "Requirement already satisfied: wcwidth in c:\\programdata\\anaconda3\\lib\\site-packages (from prompt-toolkit!=3.0.37,<3.1.0,>=3.0.30->ipython>=5.4.1->jupyterthemes) (0.2.5)\n",
      "Requirement already satisfied: six>=1.5 in c:\\programdata\\anaconda3\\lib\\site-packages (from python-dateutil>=2.7->matplotlib>=1.4.3->jupyterthemes) (1.16.0)\n",
      "Requirement already satisfied: pywinpty>=1.1.0 in c:\\programdata\\anaconda3\\lib\\site-packages (from terminado>=0.8.3->notebook>=5.6.0->jupyterthemes) (2.0.10)\n",
      "Requirement already satisfied: argon2-cffi-bindings in c:\\programdata\\anaconda3\\lib\\site-packages (from argon2-cffi->notebook>=5.6.0->jupyterthemes) (21.2.0)\n",
      "Requirement already satisfied: comm>=0.1.1 in c:\\programdata\\anaconda3\\lib\\site-packages (from ipykernel->notebook>=5.6.0->jupyterthemes) (0.1.2)\n",
      "Requirement already satisfied: debugpy>=1.6.5 in c:\\programdata\\anaconda3\\lib\\site-packages (from ipykernel->notebook>=5.6.0->jupyterthemes) (1.6.7)\n",
      "Requirement already satisfied: psutil in c:\\programdata\\anaconda3\\lib\\site-packages (from ipykernel->notebook>=5.6.0->jupyterthemes) (5.9.0)\n",
      "Requirement already satisfied: executing in c:\\programdata\\anaconda3\\lib\\site-packages (from stack-data->ipython>=5.4.1->jupyterthemes) (0.8.3)\n",
      "Requirement already satisfied: asttokens in c:\\programdata\\anaconda3\\lib\\site-packages (from stack-data->ipython>=5.4.1->jupyterthemes) (2.0.5)\n",
      "Requirement already satisfied: pure-eval in c:\\programdata\\anaconda3\\lib\\site-packages (from stack-data->ipython>=5.4.1->jupyterthemes) (0.2.2)\n",
      "Requirement already satisfied: attrs>=17.4.0 in c:\\programdata\\anaconda3\\lib\\site-packages (from jsonschema>=2.6->nbformat->notebook>=5.6.0->jupyterthemes) (22.1.0)\n",
      "Requirement already satisfied: pyrsistent!=0.17.0,!=0.17.1,!=0.17.2,>=0.14.0 in c:\\programdata\\anaconda3\\lib\\site-packages (from jsonschema>=2.6->nbformat->notebook>=5.6.0->jupyterthemes) (0.18.0)\n",
      "Requirement already satisfied: anyio<4,>=3.1.0 in c:\\programdata\\anaconda3\\lib\\site-packages (from jupyter-server>=1.8->nbclassic>=0.4.7->notebook>=5.6.0->jupyterthemes) (3.5.0)\n",
      "Requirement already satisfied: websocket-client in c:\\programdata\\anaconda3\\lib\\site-packages (from jupyter-server>=1.8->nbclassic>=0.4.7->notebook>=5.6.0->jupyterthemes) (0.58.0)\n",
      "Requirement already satisfied: cffi>=1.0.1 in c:\\programdata\\anaconda3\\lib\\site-packages (from argon2-cffi-bindings->argon2-cffi->notebook>=5.6.0->jupyterthemes) (1.15.1)\n",
      "Requirement already satisfied: soupsieve>1.2 in c:\\programdata\\anaconda3\\lib\\site-packages (from beautifulsoup4->nbconvert>=5->notebook>=5.6.0->jupyterthemes) (2.4)\n",
      "Requirement already satisfied: webencodings in c:\\programdata\\anaconda3\\lib\\site-packages (from bleach->nbconvert>=5->notebook>=5.6.0->jupyterthemes) (0.5.1)\n",
      "Requirement already satisfied: idna>=2.8 in c:\\programdata\\anaconda3\\lib\\site-packages (from anyio<4,>=3.1.0->jupyter-server>=1.8->nbclassic>=0.4.7->notebook>=5.6.0->jupyterthemes) (3.4)\n",
      "Requirement already satisfied: sniffio>=1.1 in c:\\programdata\\anaconda3\\lib\\site-packages (from anyio<4,>=3.1.0->jupyter-server>=1.8->nbclassic>=0.4.7->notebook>=5.6.0->jupyterthemes) (1.2.0)\n",
      "Requirement already satisfied: pycparser in c:\\programdata\\anaconda3\\lib\\site-packages (from cffi>=1.0.1->argon2-cffi-bindings->argon2-cffi->notebook>=5.6.0->jupyterthemes) (2.21)\n",
      "Installing collected packages: lesscpy, jupyterthemes\n",
      "Successfully installed jupyterthemes-0.20.0 lesscpy-0.15.1\n",
      "Note: you may need to restart the kernel to use updated packages.\n"
     ]
    },
    {
     "name": "stderr",
     "output_type": "stream",
     "text": [
      "  WARNING: The script lesscpy.exe is installed in 'C:\\Users\\Mahathi\\AppData\\Roaming\\Python\\Python311\\Scripts' which is not on PATH.\n",
      "  Consider adding this directory to PATH or, if you prefer to suppress this warning, use --no-warn-script-location.\n",
      "  WARNING: The scripts jt.exe and jupyter-theme.exe are installed in 'C:\\Users\\Mahathi\\AppData\\Roaming\\Python\\Python311\\Scripts' which is not on PATH.\n",
      "  Consider adding this directory to PATH or, if you prefer to suppress this warning, use --no-warn-script-location.\n"
     ]
    }
   ],
   "source": [
    "pip install jupyterthemes"
   ]
  },
  {
   "cell_type": "code",
   "execution_count": null,
   "id": "e6824a35",
   "metadata": {},
   "outputs": [],
   "source": [
    "pip install --upgrade jupyterthemes"
   ]
  }
 ],
 "metadata": {
  "kernelspec": {
   "display_name": "Python 3 (ipykernel)",
   "language": "python",
   "name": "python3"
  },
  "language_info": {
   "codemirror_mode": {
    "name": "ipython",
    "version": 3
   },
   "file_extension": ".py",
   "mimetype": "text/x-python",
   "name": "python",
   "nbconvert_exporter": "python",
   "pygments_lexer": "ipython3",
   "version": "3.9.18"
  }
 },
 "nbformat": 4,
 "nbformat_minor": 5
}
